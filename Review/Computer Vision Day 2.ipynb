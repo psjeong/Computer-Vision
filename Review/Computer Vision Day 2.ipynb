{
 "cells": [
  {
   "cell_type": "markdown",
   "id": "26a134d5",
   "metadata": {},
   "source": [
    "# 동영상 파일 다루기"
   ]
  },
  {
   "cell_type": "code",
   "execution_count": 1,
   "id": "30e305e8",
   "metadata": {},
   "outputs": [],
   "source": [
    "import cv2\n",
    "import sys"
   ]
  },
  {
   "cell_type": "markdown",
   "id": "62b78995",
   "metadata": {},
   "source": [
    "## 동영상 저장"
   ]
  },
  {
   "cell_type": "code",
   "execution_count": 7,
   "id": "de647dbe",
   "metadata": {},
   "outputs": [
    {
     "name": "stdout",
     "output_type": "stream",
     "text": [
      "640 480 30.0\n",
      "cap released\n"
     ]
    }
   ],
   "source": [
    "cap = cv2.VideoCapture('./data/stopwatch.avi')\n",
    "\n",
    "if not cap.isOpened():\n",
    "    print(\"Camera open failed!\")\n",
    "    sys.exit()\n",
    "\n",
    "w = int(cap.get(cv2.CAP_PROP_FRAME_WIDTH))  # 정수값을 사용해야하므로 int로 변환\n",
    "h = int(cap.get(cv2.CAP_PROP_FRAME_HEIGHT)) # 정수값을 사용해야하므로 int로 변환\n",
    "fps = cap.get(cv2.CAP_PROP_FPS)    \n",
    "print(w, h, fps)\n",
    "delay = round(1000/fps)\n",
    "\n",
    "# 코드 추가\n",
    "fourcc = cv2.VideoWriter_fourcc(\"D\", \"I\", \"V\", \"X\") # 4개의 캐릭터로 되어있음 | (*\"DIVX\")로 작성해도 됨\n",
    "outputVideo = cv2.VideoWriter('./out/output.avi', fourcc, fps, (w, h))  # (파일명, 코덱, fps(Frames Per Second), (width, height))\n",
    "\n",
    "while True:\n",
    "    ret, frame = cap.read()\n",
    "    if not ret:\n",
    "        print('frame read error')\n",
    "        break\n",
    "    \n",
    "    outputVideo.write(frame)   # 코드 추가\n",
    "    cv2.imshow(\"frame\", frame)\n",
    "    \n",
    "    if cv2.waitKey(delay) == 27: \n",
    "        break                    \n",
    "            \n",
    "\n",
    "if cap.isOpened():\n",
    "    print(\"cap released\")\n",
    "    cap.release()\n",
    "\n",
    "cv2.destroyAllWindows()"
   ]
  },
  {
   "cell_type": "markdown",
   "id": "c04c97b0",
   "metadata": {},
   "source": [
    "## 드로이드캠 영상"
   ]
  },
  {
   "cell_type": "markdown",
   "id": "19627198",
   "metadata": {},
   "source": [
    "안드로이드 스마트폰 앱 중 DroidCam을 이용하면 스마트폰 카메라에서 촬영한 영상을 소켓 통신을 통해 보내고 받을 수 있다.\n",
    "- 사용 순서\n",
    "1. 플레이스토어에서 DroidCam 설치\n",
    "2. 스마트폰에서 DroidCam 앱을 실행하고 와이파이 IP, 포트 번호, 'mpegfeed'를 사용해 VideoCapture 객체 cap을 생성(http://IP:port/mjpegfeed')\n",
    "3. 와이파이 IP, 포트 번호는 스마트폰 및 와이파이 환경에 따라 다르고, 'mjpegfeed' 문자열은 앱에 따라 다를 수 있음.\n",
    "아이폰의 경우 (http://IP:port/video')"
   ]
  },
  {
   "cell_type": "code",
   "execution_count": 7,
   "id": "a511ff19",
   "metadata": {},
   "outputs": [
    {
     "name": "stdout",
     "output_type": "stream",
     "text": [
      "640 480 25.0\n",
      "cap released\n"
     ]
    }
   ],
   "source": [
    "cap = cv2.VideoCapture('http://192.168.35.150:4747/video')\n",
    "# cap = cv2.VideoCapture(\"http://192.168.80.147:4747/mjpegfeed\") # 안드로이드\n",
    "# cap = cv2.VideoCapture(\"http://192.168.80:147/video\") # 아이폰\n",
    "\n",
    "if not cap.isOpened():\n",
    "    print(\"Camera open failed!\")\n",
    "    sys.exit()\n",
    "\n",
    "w = int(cap.get(cv2.CAP_PROP_FRAME_WIDTH))\n",
    "h = int(cap.get(cv2.CAP_PROP_FRAME_HEIGHT))\n",
    "fps = cap.get(cv2.CAP_PROP_FPS)    \n",
    "print(w, h, fps)\n",
    "delay = round(1000/fps)\n",
    "\n",
    "fourcc = cv2.VideoWriter_fourcc(\"D\", \"I\", \"V\", \"X\") \n",
    "outputVideo = cv2.VideoWriter('./out/output.avi', fourcc, fps, (w, h)) \n",
    "\n",
    "while True:\n",
    "    ret, frame = cap.read()\n",
    "    if not ret:\n",
    "        print('frame read error')\n",
    "        break\n",
    "    \n",
    "    cv2.imshow(\"frame\", frame)\n",
    "    \n",
    "    if cv2.waitKey(delay) == 27:\n",
    "            break             \n",
    "            \n",
    "\n",
    "if cap.isOpened():\n",
    "    print(\"cap released\")\n",
    "    cap.release()\n",
    "\n",
    "cv2.destroyAllWindows()"
   ]
  },
  {
   "cell_type": "markdown",
   "id": "9f7280d5",
   "metadata": {},
   "source": [
    "## 유튜브 영상"
   ]
  },
  {
   "cell_type": "markdown",
   "id": "4e570cf0",
   "metadata": {},
   "source": [
    "- pafy : 비디오에서 메타데이터 획득, 비디오/오디오를 다운로드 하는 패키지\n",
    "- youtube_dl : patfy의 backend에서 유튜브 동영상을 다운로드\n",
    "\n",
    "**설치방법**\n",
    "- pip install pafy\n",
    "- pip install youtube_dl"
   ]
  },
  {
   "cell_type": "code",
   "execution_count": 2,
   "id": "40e4e8d0",
   "metadata": {},
   "outputs": [],
   "source": [
    "import pafy\n",
    "import youtube_dl"
   ]
  },
  {
   "cell_type": "code",
   "execution_count": 4,
   "id": "8dbf043c",
   "metadata": {},
   "outputs": [
    {
     "name": "stdout",
     "output_type": "stream",
     "text": [
      "title :  BTS - \"Permission to Dance\" performed at the United Nations General Assembly | SDGs | Official Video\n",
      "rating :  None\n",
      "duration :  00:03:43\n",
      "download url :  https://rr2---sn-ab02a0nfpgxapox-bh2sd.googlevideo.com/videoplayback?expire=1663832007&ei=Z7srY5GHD5js4AKjrKnwBQ&ip=112.220.17.226&id=o-AGK7qCkmsFYB9Sm2m2yBvmz0FGEUPX2wcimXbt12QADF&itag=18&source=youtube&requiressl=yes&mh=e9&mm=31%2C26&mn=sn-ab02a0nfpgxapox-bh2sd%2Csn-n4v7snl7&ms=au%2Conr&mv=m&mvi=2&pl=24&initcwndbps=967500&vprv=1&mime=video%2Fmp4&ns=cA6-WHT9wYLIJrNudPV8tIEI&gir=yes&clen=19255716&ratebypass=yes&dur=223.445&lmt=1632650578912066&mt=1663810143&fvip=2&fexp=24001373%2C24007246&c=WEB&txp=5538434&n=tvZZ75rdbsuv3zMgdQ&sparams=expire%2Cei%2Cip%2Cid%2Citag%2Csource%2Crequiressl%2Cvprv%2Cmime%2Cns%2Cgir%2Cclen%2Cratebypass%2Cdur%2Clmt&sig=AOq0QJ8wRgIhANoedRW8RJt68Fr5T4lUmIcnYRPMTNw8uJYEnztWzf1kAiEAs5qf2OplahQK04hBDgWhCQqalkeRi3m_tOu5PKkowYs%3D&lsparams=mh%2Cmm%2Cmn%2Cms%2Cmv%2Cmvi%2Cpl%2Cinitcwndbps&lsig=AG3C_xAwRAIgDMvs-pb0xvyivHas333fIoc6HYKv--SBr3yExxqJ2oYCIEDz83_YQSajwDz0ExP-27ITKC9qpSORxs1efffNMQZG\n",
      "resolution :  640x360\n"
     ]
    }
   ],
   "source": [
    "url = \"https://www.youtube.com/watch?v=9SmQOZWNyWE&list=RD9SmQOZWNyWE&index=2\"\n",
    "\n",
    "video = pafy.new(url)\n",
    "print(\"title : \", video.title)\n",
    "print(\"rating : \", video.rating)\n",
    "print(\"duration : \", video.duration) # 재생 시간 정보\n",
    "\n",
    "best = video.getbest()  # 다운로드 가능한 url \n",
    "print(\"download url : \", best.url)\n",
    "print(\"resolution : \", best.resolution)  # 비디오 해상도"
   ]
  },
  {
   "cell_type": "code",
   "execution_count": 9,
   "id": "b90a0465",
   "metadata": {},
   "outputs": [
    {
     "name": "stdout",
     "output_type": "stream",
     "text": [
      "640 360 29.97002997002997\n",
      "cap released\n"
     ]
    }
   ],
   "source": [
    "cap = cv2.VideoCapture(best.url) # 다운로드 가능한 주소\n",
    "\n",
    "if not cap.isOpened():\n",
    "    print(\"Camera open failed!\")\n",
    "    sys.exit()\n",
    "\n",
    "w = int(cap.get(cv2.CAP_PROP_FRAME_WIDTH))\n",
    "h = int(cap.get(cv2.CAP_PROP_FRAME_HEIGHT))\n",
    "fps = cap.get(cv2.CAP_PROP_FPS)    \n",
    "print(w, h, fps)\n",
    "delay = round(1000/fps)\n",
    "\n",
    "fourcc = cv2.VideoWriter_fourcc(\"D\", \"I\", \"V\", \"X\") \n",
    "outputVideo = cv2.VideoWriter('./out/youtube_output.avi', fourcc, fps, (w, h)) \n",
    "\n",
    "\n",
    "while True:\n",
    "    ret, frame = cap.read()\n",
    "    \n",
    "    if not ret:\n",
    "        print('frame read error')\n",
    "        break\n",
    "    \n",
    "    # 반전영상\n",
    "    cv2.imshow(\"inverse\", (255-frame) )\n",
    "    \n",
    "    # 에지만\n",
    "    edge = cv2.Canny(frame, 100, 200)  # (frame, min threshold1 , max threshold2)\n",
    "    cv2.imshow(\"edge\", edge)\n",
    "    \n",
    "    # 흑백영상\n",
    "    gray = cv2.cvtColor(frame, cv2.COLOR_BGR2GRAY)\n",
    "    cv2.imshow(\"gray\", gray)\n",
    "    \n",
    "    # 원본\n",
    "    cv2.imshow(\"frame\", frame)\n",
    "    \n",
    "    if cv2.waitKey(delay) == 27:\n",
    "        break             \n",
    "            \n",
    "\n",
    "if cap.isOpened():\n",
    "    print(\"cap released\")\n",
    "    cap.release()\n",
    "\n",
    "cv2.destroyAllWindows()"
   ]
  },
  {
   "cell_type": "code",
   "execution_count": 7,
   "id": "44c40b87",
   "metadata": {},
   "outputs": [],
   "source": [
    "# 윈도우 창이 안닫힐 때\n",
    "cv2.waitKey()\n",
    "cv2.destroyAllWindows()"
   ]
  },
  {
   "cell_type": "markdown",
   "id": "9bfd0b35",
   "metadata": {},
   "source": [
    "# 다양한 그리기 함수"
   ]
  },
  {
   "cell_type": "code",
   "execution_count": 3,
   "id": "a6955216",
   "metadata": {},
   "outputs": [],
   "source": [
    "import numpy as np"
   ]
  },
  {
   "cell_type": "markdown",
   "id": "3d421203",
   "metadata": {},
   "source": [
    "## 직선 그리기"
   ]
  },
  {
   "cell_type": "markdown",
   "id": "3ef61c43",
   "metadata": {},
   "source": [
    "- <u>행렬</u>에서 위치를 찾아가는 방법 (색인/슬라이싱)  <br>    행 : 수직방향, 열 : 수평방향\n",
    "- <u>OpenCV API</u>에서 좌표를 찾아가는 방법  <br>    x좌표 : 수평방향, y 좌표 : 수직 방향"
   ]
  },
  {
   "cell_type": "code",
   "execution_count": 25,
   "id": "4e6708a7",
   "metadata": {},
   "outputs": [],
   "source": [
    "# 도화지\n",
    "# array = np.full(형상(shape) -> 행, 값 -> 열, 데이터 타입)\n",
    "img = np.full((400, 400, 3), 255, np.uint8)\n",
    "\n",
    "# cv2.line(도화지, 시작하는점, 끝점, 색깔, 굵기,.....)\n",
    "\n",
    "# 수평선\n",
    "pt1 = (50, 100) # x좌표, y좌표\n",
    "pt2 = (150, 100) # x좌표, y좌표\n",
    "cv2.line(img, pt1, pt2, (255, 255, 0), 2) # pt1 :(x, y), pt2: (x, y), color = (b,g,r)\n",
    "\n",
    "# 대각선\n",
    "pt3 = (200, 100)\n",
    "pt4 = (300, 250)\n",
    "cv2.line(img, pt3, pt4, (0, 255, 0), 2, cv2.LINE_AA) # cv2.LINE_AA : lineType\n",
    "\n",
    "\n",
    "cv2.imshow(\"img\", img)\n",
    "cv2.waitKey()\n",
    "cv2.destroyAllWindows()"
   ]
  },
  {
   "cell_type": "markdown",
   "id": "99bc07b7",
   "metadata": {},
   "source": [
    "Line Types 열거형 함수\n",
    "\n",
    "- FileLoader <br>\n",
    "  값 : -1 <br>\n",
    "  설명 : 내부를 채움 (직선 그리기 함수에는 사용 불가) <br><br>\n",
    "- LINE_4<br>\n",
    "  값 : 4<br>\n",
    "  설명 : 4방향 연결<br><br>\n",
    "- LINE_8<br>\n",
    "  값 : 8<br>\n",
    "  설명 : 8방향 연결<br><br>\n",
    "- LINE_AA<br>\n",
    "  값 : 18<br>\n",
    "  설명 : 안티에일리어싱 (anti-aliasing)"
   ]
  },
  {
   "cell_type": "markdown",
   "id": "4260ff1f",
   "metadata": {},
   "source": [
    "## 도형 그리기"
   ]
  },
  {
   "cell_type": "code",
   "execution_count": 47,
   "id": "6aae8862",
   "metadata": {},
   "outputs": [],
   "source": [
    "img = np.full((400, 400, 3), 255, np.uint8)\n",
    "\n",
    "# rectangle\n",
    "# cv2.rectangle(도화지, 시작점, 끝점, 색깔, 굵기...) # 시작점과 끝점은 대각방향으로 바라보는 점\n",
    "cv2.rectangle(img, (50, 50), (150, 100), (0, 0, 255), 3) # 굵기를 3으로\n",
    "cv2.rectangle(img, (50, 150), (150, 200), (0, 0, 255), cv2.FILLED) # 굵기 자리에 -1을 지정하면 내부채워짐\n",
    "\n",
    "# circle\n",
    "# cv2.circle(도화지, 중심점, 반지름, 색깔, 굵기...)\n",
    "cv2.circle(img, (300, 120), 30, (255, 255, 0), 2)\n",
    "cv2.circle(img, (300, 200), 30, (0, 255, 0), cv2.FILLED)\n",
    "\n",
    "# ellipse\n",
    "# cv2.ellipse(도화지, 중심점, 반지름쌍, 기울기, 시작각도, 끝각도, 색깔, 굵기...)\n",
    "cv2.ellipse(img, (100, 300), (60, 30), 0, 0, 360, (255, 0, 0), 3)\n",
    "\n",
    "# polylines\n",
    "# cv2.polylines(도화지, [다각형을 이룰 점들]. 다각형을 닫을지 여부, 색깔, 굵기)\n",
    "pts = np.array([[250, 250], [300, 250], [300, 300], [350, 300], [350, 350], [250, 350]])\n",
    "cv2.polylines(img, [pts], True, (255, 0, 255), 2)\n",
    "\n",
    "cv2.imshow(\"img\", img)\n",
    "cv2.waitKey()\n",
    "cv2.destroyAllWindows()"
   ]
  },
  {
   "cell_type": "markdown",
   "id": "3843e9f6",
   "metadata": {},
   "source": [
    "## 문자열 출력하기"
   ]
  },
  {
   "cell_type": "markdown",
   "id": "d1485466",
   "metadata": {},
   "source": [
    "HersheyFonts 열거형 함수 <br>\n",
    "- FONT_HERSHEY_SIMPLEX &nbsp;&nbsp;: 일반 크기의 산세리프 폰트\n",
    "- FONT_HERSHEY_PLAIN&nbsp;&nbsp;&nbsp;&nbsp;&nbsp;&nbsp;&nbsp;: 작은 크기의 산세리프 폰트\n",
    "- FONT_HERSHEY_DUPLEX&nbsp;&nbsp;&nbsp;&nbsp;: 일반 크기의 산세리프 폰트 (FONT_HERSHEY_SIMPLEX 보다 복잡한 형태)\n",
    "- FONT_HERSHEY_COMPLEX : 일반 크기의 세리프 폰트\n",
    "- FONT_HERSHEY_TRIPLEX &nbsp;&nbsp;&nbsp;: 일반 크기의 세리프 폰트 (FONT_HERSHEY_COMPLEX 보다 복잡한 형태)\n",
    "- FONT_HERSHEY_ITALIC &nbsp;&nbsp;&nbsp;&nbsp;&nbsp; : 이탤릭체를 위한 플래그\n",
    "- FONT_HERSHEY_COMPLEX_SMALL &nbsp;&nbsp;: FONT_HERSHEY_COMPLEX 보다 작은 폰트\n",
    "- FONT_HERSHEY_SCRIPT_SIMPLEX &nbsp;&nbsp;&nbsp;&nbsp;: 필기체 스타일의 폰트\n",
    "- FONT_HERSHEY_SCRIPT_COMPLEX &nbsp;&nbsp;: 필기체 스타일의 폰트 (FONT_HERSHEY_SCRIPT_SIMPLEX 보다 복잡한 형태)"
   ]
  },
  {
   "cell_type": "code",
   "execution_count": 55,
   "id": "dbcc0e83",
   "metadata": {},
   "outputs": [],
   "source": [
    "img = np.full((400, 400, 3), 255, np.uint8)\n",
    "\n",
    "# cv2.putText(도화지, 텍스트, 텍스트의 좌하단좌표, 폰트, 스케일, 색깔...)\n",
    "cv2.putText(img, \"Hello\", (20, 50), cv2.FONT_HERSHEY_SIMPLEX, 1, (255, 255, 0), 3)\n",
    "\n",
    "cv2.imshow(\"img\", img)\n",
    "cv2.waitKey()\n",
    "cv2.destroyAllWindows()"
   ]
  },
  {
   "cell_type": "markdown",
   "id": "8e9d87fa",
   "metadata": {},
   "source": [
    "Hello, OpenCV 를 출력하되, 텍스트를 감싸는 사각형을 그리고, 좌하단에 동그라미를 그리기"
   ]
  },
  {
   "cell_type": "code",
   "execution_count": 77,
   "id": "8b9f51c8",
   "metadata": {},
   "outputs": [],
   "source": [
    "img = np.full((200, 640, 3), 255, np.uint8)\n",
    "\n",
    "text = \"Hello, OpenCV\"\n",
    "fontFace = cv2.FONT_HERSHEY_TRIPLEX\n",
    "fontScale = 2.0\n",
    "thickness = 1\n",
    "\n",
    "# getTextSize : 텍스트를 감싸고 있는 사각형 사이즈를 알려줌\n",
    "size_Text, _ = cv2.getTextSize(text, fontFace, fontScale, thickness) \n",
    "# size_Text -> (width, height) | _ -> retval : 잘 받았는지 못받았는지\n",
    "\n",
    "org_x =(img.shape[1] - size_Text[0])// 2\n",
    "org_y =(img.shape[0] + size_Text[1])// 2\n",
    "\n",
    "cv2.putText(img, text, (org_x, org_y), fontFace, fontScale, (255, 0, 0), thickness)\n",
    "cv2.rectangle(img, (org_x, org_y), (org_x + size_Text[0], org_y - size_Text[1]), (0, 255, 0), 2)\n",
    "cv2.circle(img, (org_x, org_y), 5, (0, 0, 255), cv2.FILLED)           \n",
    "\n",
    "cv2.imshow(\"img\", img)\n",
    "cv2.waitKey()\n",
    "cv2.destroyAllWindows()"
   ]
  },
  {
   "cell_type": "markdown",
   "id": "9ce0450c",
   "metadata": {},
   "source": [
    "## 실습 : 카운트다운 영상 만들기"
   ]
  },
  {
   "cell_type": "code",
   "execution_count": 83,
   "id": "1909ce0e",
   "metadata": {},
   "outputs": [],
   "source": [
    "for i in range(10, 0, -1):\n",
    "  text = str(i)\n",
    "  img = np.full((500, 500, 3), 255, np.uint8)\n",
    "  fontFace = cv2.FONT_HERSHEY_TRIPLEX\n",
    "  fontScale = 2\n",
    "  thickness = 2\n",
    "\n",
    "  size_Text, _ = cv2.getTextSize(text, fontFace, fontScale, thickness)\n",
    "\n",
    "  center_x = int(img.shape[1]/2 - size_Text[0]/2)\n",
    "  center_y = int(img.shape[0]/2 + size_Text[1]/2)\n",
    "\n",
    "  xr = int(img.shape[1]/8)\n",
    "  yr = int(img.shape[0]/8)\n",
    "  \n",
    "  cv2.ellipse(img, (250, 250), (xr, yr) , 270, 0, 36*i, (150, 220, 110), 5)\n",
    "  cv2.putText(img, text, (center_x, center_y), fontFace, fontScale, (110, 220, 150), thickness)\n",
    "  \n",
    "  cv2.imshow(\"img\", img)\n",
    "  cv2.waitKey(1000)\n",
    "\n",
    "cv2.destroyAllWindows()\n"
   ]
  },
  {
   "cell_type": "markdown",
   "id": "bdfa7296",
   "metadata": {},
   "source": [
    "# 이벤트 처리"
   ]
  },
  {
   "cell_type": "markdown",
   "id": "910400dd",
   "metadata": {},
   "source": [
    "## 키보드 이벤트"
   ]
  },
  {
   "cell_type": "code",
   "execution_count": 89,
   "id": "14a23863",
   "metadata": {},
   "outputs": [],
   "source": [
    "img = cv2.imread('./data/lena.jpg')\n",
    "\n",
    "if img is None:\n",
    "    print(\"Image load failed!\")\n",
    "    sys.exit()\n",
    "    \n",
    "cv2.imshow(\"img\", img)    \n",
    "while True:\n",
    "    keycode = cv2.waitKey()\n",
    "    \n",
    "    if keycode == ord('i') or keycode == ord('I'):\n",
    "        img = 255 - img\n",
    "        cv2.imshow(\"img\", img)\n",
    "        \n",
    "    elif keycode == ord('q') or keycode == ord('Q'):\n",
    "        break\n",
    "\n",
    "\n",
    "cv2.destroyAllWindows()"
   ]
  },
  {
   "cell_type": "code",
   "execution_count": 97,
   "id": "d36aab7d",
   "metadata": {},
   "outputs": [],
   "source": [
    "img = np.full((512, 512, 3), 255, np.uint8)\n",
    "\n",
    "x, y = img.shape[0]//2, img.shape[1]//2\n",
    "width, height = img.shape[1], img.shape[0]\n",
    "R = 50\n",
    "direction = 0 # 0 : 오른쪽, 1: 아래쪽, 2: 왼쪽, 3: 윗쪽\n",
    "\n",
    "while True:\n",
    "    keycode = cv2.waitKeyEx(100)\n",
    "    \n",
    "    if keycode == 0x270000: # right key\n",
    "        direction = 0\n",
    "        \n",
    "    elif keycode == 0x280000: # down key\n",
    "        direction = 1\n",
    "        \n",
    "    elif keycode == 0x250000: # left key\n",
    "        direction = 2\n",
    "        \n",
    "    elif keycode == 0x260000: # up key\n",
    "        direction = 3\n",
    "        \n",
    "    elif keycode == ord('q') or keycode == ord('Q') or keycode == 27:\n",
    "        break\n",
    "        \n",
    "        \n",
    "    if direction == 0:\n",
    "        x += 10\n",
    "    elif direction == 1:\n",
    "        y += 10\n",
    "    elif direction == 2:\n",
    "        x -= 10\n",
    "    elif direction == 3:\n",
    "        y -= 10\n",
    "        \n",
    "        \n",
    "    # 경계 처리\n",
    "    if x < R :\n",
    "        x = R\n",
    "        direction = 0\n",
    "    if x > width - R:\n",
    "        x = width - R\n",
    "        direction = 2\n",
    "        \n",
    "    if y < R :\n",
    "        y = R\n",
    "        direction = 1\n",
    "    if y > height - R:\n",
    "        y = height - R\n",
    "        direction = 3\n",
    "        \n",
    "    cv2.circle(img, (x, y), R, (0, 0, 255), -1) \n",
    "    cv2.imshow(\"img\", img)   \n",
    "    img = np.full((512, 512, 3), 255, np.uint8)\n",
    "\n",
    "cv2.destroyAllWindows()"
   ]
  },
  {
   "cell_type": "markdown",
   "id": "594730cd",
   "metadata": {},
   "source": [
    "## 마우스 이벤트"
   ]
  },
  {
   "cell_type": "markdown",
   "id": "10befe8c",
   "metadata": {},
   "source": [
    "cv2.setMouseCallback(윈도우, 콜백 함수, 사용자 정의 데이터)"
   ]
  },
  {
   "cell_type": "markdown",
   "id": "36a7abb7",
   "metadata": {},
   "source": [
    "[콜백 함수의 파라미터]\n",
    "\n",
    "- event : 마우스 이벤트가 어떤 상태로 발행했는지, 마우스 이벤트 종류. cv2.EVENT_로 시작하는 열거형 상수 \n",
    "- x, y : 해당 동작이 감지된 x, y 좌표값 \n",
    "- flags : 마우스 이벤트가 발생할 때의 특정 조건 (ctrl, shift, alt 등.. 키 조합 색성) <br>\n",
    "&nbsp;&nbsp;&nbsp;&nbsp;&nbsp;&nbsp;&nbsp;&nbsp;&nbsp;cv2.EVENT_FLAG_로 시작하는 열거형 상수\n",
    "- param : cv2.setMouseCallback() 함수에서 설정한 데이터"
   ]
  },
  {
   "cell_type": "markdown",
   "id": "6651ea1c",
   "metadata": {},
   "source": [
    "[event 열거형 상수]\n",
    "\n",
    "- EVENT_MOUSEMOVE : 마우스가 움직였을 때 \n",
    "- EVENT_LBUTTONDOWN : 마우스 왼쪽 버튼을 눌렀을 때 \n",
    "- EVENT_LBUTTONUP :  마우스 왼쪽 버튼을 올렸을 때 \n",
    "- EVENT_RBUTTONDOWN : 마우스 오른쪽 버튼을 눌렀을 때 \n",
    "- EVENT_RBUTTONUP : 마우스 오른쪽 버튼을 올렸을 때 \n",
    "- EVENT_MBUTTONDOWN : 마우스 가운데 버튼을 눌렀을 때 \n",
    "- EVENT_MBUTTONUP : 마우스 가운데 버튼을 올렸을 때 \n",
    "- EVENT_LBUTTONDBCLICK : 마우스 왼쪽 버튼을 두번 눌렀을 때\n",
    "- EVENT_RBUTTONDBCLICK : 마우스 오른쪽 버튼을 두번 눌렀을 때 \n",
    "- EVENT_MBUTTONDBCLICK : 마우스 가운데 버튼을 두분 눌렀을 때 "
   ]
  },
  {
   "cell_type": "code",
   "execution_count": 3,
   "id": "02e24806",
   "metadata": {},
   "outputs": [],
   "source": [
    "def on_mouse(event, x, y, flags, param):\n",
    "    global old_x, old_y  # 백업용 x, y 좌표 \n",
    "    if event == cv2.EVENT_LBUTTONDOWN:\n",
    "        old_x, old_y = x, y\n",
    "        \n",
    "    elif event == cv2.EVENT_LBUTTONUP:\n",
    "        pass\n",
    "        \n",
    "    elif event == cv2.EVENT_MOUSEMOVE:\n",
    "        if flags & cv2.EVENT_FLAG_LBUTTON:\n",
    "            cv2.line(img, (old_x, old_y), (x, y), (0, 255, 255), 2)\n",
    "            cv2.imshow(\"img\", img)\n",
    "            old_x, old_y = x, y\n",
    "\n",
    "img = cv2.imread('./data/lena.jpg')\n",
    "\n",
    "if img is None:\n",
    "    print(\"Image load failed!\")\n",
    "    sys.exit()\n",
    "\n",
    "cv2.imshow(\"img\", img)   \n",
    "cv2.setMouseCallback(\"img\", on_mouse) # 마우스 이벤트가 발생했을 때 처리될 함수를 등록(만)\n",
    "\n",
    "cv2.waitKey()\n",
    "cv2.destroyAllWindows()"
   ]
  },
  {
   "cell_type": "markdown",
   "id": "c59a1505",
   "metadata": {},
   "source": [
    "## 트랙바 이벤트"
   ]
  },
  {
   "cell_type": "markdown",
   "id": "cb44c891",
   "metadata": {},
   "source": [
    "cv2.createTrackbar(\"트랙 바 이름\", \"윈도우 창 제목\", 최솟값, 최댓값, 콜백 함수) <br>\n",
    "cv2.setTrackbarPos(\"트랙 바 이름\", \"윈도우 창 제목\", 설정값)"
   ]
  },
  {
   "cell_type": "code",
   "execution_count": 4,
   "id": "3d965947",
   "metadata": {},
   "outputs": [],
   "source": [
    "def on_level_change(pos):  # pos : position\n",
    "    # 이벤트가 발생할 때마다 화면 밝기가 바뀌도록 구현\n",
    "    img[:] = pos\n",
    "    cv2.imshow(\"img\", img)\n",
    "\n",
    "img = np.full((512, 512, 3), 0, np.uint8)\n",
    "\n",
    "cv2.imshow(\"img\", img)   \n",
    "cv2.createTrackbar(\"level\", \"img\", 0, 255, on_level_change)\n",
    "cv2.setTrackbarPos(\"level\", \"img\", 128)\n",
    "\n",
    "cv2.waitKey()\n",
    "cv2.destroyAllWindows()"
   ]
  },
  {
   "cell_type": "markdown",
   "id": "bad2bee6",
   "metadata": {},
   "source": [
    "R_pos = getTrackbarPos(트랙바이름1, 윈도우) <br>\n",
    "G_pos = getTrackbarPos(트랙바이름2, 윈도우) <br>\n",
    "B_pos = getTrackbarPos(트랙바이름3, 윈도우)"
   ]
  },
  {
   "cell_type": "code",
   "execution_count": 5,
   "id": "cc654990",
   "metadata": {},
   "outputs": [],
   "source": [
    "def on_level_change(pos):\n",
    "    # 이벤트가 발생할 때마다 R, G, B 각각의 밝기가 바뀌도록 구현\n",
    "    # 각 트랙바의 위치값 = cv2.getTrackbarPos(트랙바이름, 윈도우이름)\n",
    "    r = cv2.getTrackbarPos(\"R\", \"img\")\n",
    "    g = cv2.getTrackbarPos(\"G\", \"img\")\n",
    "    b = cv2.getTrackbarPos(\"B\", \"img\")\n",
    "    \n",
    "    img[:] = (b, g, r) \n",
    "    \n",
    "    cv2.imshow(\"img\", img)\n",
    "\n",
    "img = np.full((512, 512, 3), 0, np.uint8)\n",
    "\n",
    "cv2.imshow(\"img\", img)   \n",
    "cv2.createTrackbar(\"R\", \"img\", 0, 255, on_level_change)\n",
    "cv2.createTrackbar(\"G\", \"img\", 0, 255, on_level_change)\n",
    "cv2.createTrackbar(\"B\", \"img\", 0, 255, on_level_change)\n",
    "\n",
    "cv2.setTrackbarPos(\"B\", \"img\", 255)\n",
    "\n",
    "cv2.waitKey()\n",
    "cv2.destroyAllWindows()"
   ]
  },
  {
   "cell_type": "markdown",
   "id": "400d5586",
   "metadata": {},
   "source": [
    "# 유용한 기능들"
   ]
  },
  {
   "cell_type": "markdown",
   "id": "451ef50f",
   "metadata": {},
   "source": [
    "## 마스크 연산"
   ]
  },
  {
   "cell_type": "code",
   "execution_count": 114,
   "id": "8a5c0eaf",
   "metadata": {},
   "outputs": [],
   "source": [
    "src = cv2.imread('./data/lenna.bmp', cv2.IMREAD_COLOR)\n",
    "mask = cv2.imread('./data/mask_smile.bmp', cv2.IMREAD_GRAYSCALE)\n",
    "\n",
    "src[mask > 0] = (0, 255, 255) # yellow\n",
    "\n",
    "cv2.imshow(\"src\", src)\n",
    "cv2.imshow(\"mask\", mask)\n",
    "cv2.waitKey()\n",
    "cv2.destroyAllWindows()"
   ]
  },
  {
   "cell_type": "code",
   "execution_count": 116,
   "id": "ebd5b609",
   "metadata": {},
   "outputs": [],
   "source": [
    "src = cv2.imread('./data/airplane.bmp', cv2.IMREAD_COLOR)\n",
    "mask = cv2.imread('./data/mask_plane.bmp', cv2.IMREAD_GRAYSCALE)\n",
    "dst = cv2.imread('./data/field.bmp', cv2.IMREAD_COLOR)\n",
    "\n",
    "dst[mask>0] = src[mask>0]\n",
    "\n",
    "cv2.imshow(\"src\", src)\n",
    "cv2.imshow(\"mask\", mask)\n",
    "cv2.imshow(\"dst\", dst)\n",
    "cv2.waitKey()\n",
    "cv2.destroyAllWindows()"
   ]
  },
  {
   "cell_type": "markdown",
   "id": "a8d922b3",
   "metadata": {},
   "source": [
    "## 연산 시간 측정"
   ]
  },
  {
   "cell_type": "code",
   "execution_count": 122,
   "id": "93b6391c",
   "metadata": {},
   "outputs": [
    {
     "name": "stdout",
     "output_type": "stream",
     "text": [
      "782.366 ms\n"
     ]
    }
   ],
   "source": [
    "src = cv2.imread('./data/lenna.bmp', cv2.IMREAD_GRAYSCALE)\n",
    "dst = np.empty(src.shape, src.dtype)\n",
    "\n",
    "tm = cv2.TickMeter()\n",
    "tm.start()\n",
    "\n",
    "# option 1 : python을 이용해서 반전\n",
    "for y in range(src.shape[0]): # 행\n",
    "    for x in range(src.shape[1]): # 열\n",
    "        dst[y, x] = 255 - src[y, x]\n",
    "tm.stop()\n",
    "print(\"%4.3f ms\"% tm.getTimeMilli())\n",
    "\n",
    "cv2.imshow(\"src\", src)\n",
    "cv2.imshow(\"dst\", dst)\n",
    "cv2.waitKey()\n",
    "cv2.destroyAllWindows()"
   ]
  },
  {
   "cell_type": "code",
   "execution_count": 123,
   "id": "b15afbb1",
   "metadata": {},
   "outputs": [
    {
     "name": "stdout",
     "output_type": "stream",
     "text": [
      "0.376 ms\n"
     ]
    }
   ],
   "source": [
    "src = cv2.imread('./data/lenna.bmp', cv2.IMREAD_GRAYSCALE)\n",
    "dst = np.empty(src.shape, src.dtype)\n",
    "\n",
    "tm = cv2.TickMeter()\n",
    "tm.start()\n",
    "\n",
    "# option 2 : numpy을 이용해서 반전\n",
    "dst = 255 - src # 벡터 연산, broadcasting\n",
    "\n",
    "tm.stop()\n",
    "print(\"%4.3f ms\"% tm.getTimeMilli())\n",
    "\n",
    "cv2.imshow(\"src\", src)\n",
    "cv2.imshow(\"dst\", dst)\n",
    "cv2.waitKey()\n",
    "cv2.destroyAllWindows()"
   ]
  },
  {
   "cell_type": "code",
   "execution_count": 124,
   "id": "2a179996",
   "metadata": {},
   "outputs": [
    {
     "data": {
      "text/plain": [
       "2080.7606382978724"
      ]
     },
     "execution_count": 124,
     "metadata": {},
     "output_type": "execute_result"
    }
   ],
   "source": [
    "782.366/0.376\n",
    "# --> numpy가 2080배 정도 빠름"
   ]
  },
  {
   "cell_type": "markdown",
   "id": "d213bc42",
   "metadata": {},
   "source": [
    "## 유용한 함수들"
   ]
  },
  {
   "cell_type": "code",
   "execution_count": 125,
   "id": "2f1fbfc2",
   "metadata": {},
   "outputs": [
    {
     "data": {
      "text/plain": [
       "(32518590, 124.04857635498047)"
      ]
     },
     "execution_count": 125,
     "metadata": {},
     "output_type": "execute_result"
    }
   ],
   "source": [
    "src = cv2.imread('./data/lenna.bmp', cv2.IMREAD_GRAYSCALE)\n",
    "np.sum(src), np.mean(src)  # numpy 함수"
   ]
  },
  {
   "cell_type": "markdown",
   "id": "4a2e8b10",
   "metadata": {},
   "source": [
    "* cv2.minMaxLoc()"
   ]
  },
  {
   "cell_type": "code",
   "execution_count": 126,
   "id": "764bd707",
   "metadata": {},
   "outputs": [
    {
     "data": {
      "text/plain": [
       "(25.0, 245.0, (508, 71), (116, 273))"
      ]
     },
     "execution_count": 126,
     "metadata": {},
     "output_type": "execute_result"
    }
   ],
   "source": [
    "minVal, maxVal, minPos, maxPos = cv2.minMaxLoc(src)\n",
    "minVal, maxVal, minPos, maxPos # minPos, maxPos: x, y 좌표"
   ]
  },
  {
   "cell_type": "code",
   "execution_count": 129,
   "id": "e6050335",
   "metadata": {},
   "outputs": [
    {
     "data": {
      "text/plain": [
       "(25, 245)"
      ]
     },
     "execution_count": 129,
     "metadata": {},
     "output_type": "execute_result"
    }
   ],
   "source": [
    "src[71, 508], src[273, 116]  #ndarray 색인"
   ]
  },
  {
   "cell_type": "markdown",
   "id": "5088f598",
   "metadata": {},
   "source": [
    "* cv2.normalize()"
   ]
  },
  {
   "cell_type": "code",
   "execution_count": 133,
   "id": "fa38f058",
   "metadata": {},
   "outputs": [
    {
     "data": {
      "text/plain": [
       "array([[  0,  64, 128, 191, 255]], dtype=uint8)"
      ]
     },
     "execution_count": 133,
     "metadata": {},
     "output_type": "execute_result"
    }
   ],
   "source": [
    "data = np.array([[-1, -0.5, 0, 0.5, 1]])\n",
    "dst = cv2.normalize(data, None, 0, 255, cv2.NORM_MINMAX, cv2.CV_8U) # cv2.CV_8U = np.uint8 같은 의미\n",
    "dst"
   ]
  }
 ],
 "metadata": {
  "kernelspec": {
   "display_name": "Python 3.10.1 64-bit",
   "language": "python",
   "name": "python3"
  },
  "language_info": {
   "codemirror_mode": {
    "name": "ipython",
    "version": 3
   },
   "file_extension": ".py",
   "mimetype": "text/x-python",
   "name": "python",
   "nbconvert_exporter": "python",
   "pygments_lexer": "ipython3",
   "version": "3.10.1"
  },
  "vscode": {
   "interpreter": {
    "hash": "26de051ba29f2982a8de78e945f0abaf191376122a1563185a90213a26c5da77"
   }
  }
 },
 "nbformat": 4,
 "nbformat_minor": 5
}
