{
 "cells": [
  {
   "cell_type": "markdown",
   "id": "df146c33",
   "metadata": {},
   "source": [
    "# 에지 검출과 응용"
   ]
  },
  {
   "cell_type": "code",
   "execution_count": 1,
   "id": "d691c3b6",
   "metadata": {},
   "outputs": [],
   "source": [
    "import cv2"
   ]
  },
  {
   "cell_type": "markdown",
   "id": "1f78ff26",
   "metadata": {},
   "source": [
    "## 캐니 에지 검출기"
   ]
  },
  {
   "cell_type": "code",
   "execution_count": 7,
   "id": "dfd81035",
   "metadata": {},
   "outputs": [],
   "source": [
    "src = cv2.imread('./data/lenna.bmp', cv2.IMREAD_GRAYSCALE)\n",
    "\n",
    "dst1 = cv2.Canny(src, 50, 100) # low threshold, high threshold\n",
    "dst2 = cv2.Canny(src, 100, 200) # low:high  - 1:2 or 1:3 recommend\n",
    "\n",
    "\n",
    "cv2.imshow('src', src)\n",
    "cv2.imshow('dst1', dst1)\n",
    "cv2.imshow('dst2', dst2)\n",
    "cv2.waitKey()\n",
    "cv2.destroyAllWindows()"
   ]
  },
  {
   "cell_type": "markdown",
   "id": "54bde84d",
   "metadata": {},
   "source": [
    "## 허프 변환 직선 검출"
   ]
  },
  {
   "cell_type": "code",
   "execution_count": 13,
   "id": "f4910974",
   "metadata": {},
   "outputs": [
    {
     "data": {
      "text/plain": [
       "3.141592653589793"
      ]
     },
     "execution_count": 13,
     "metadata": {},
     "output_type": "execute_result"
    }
   ],
   "source": [
    "import math\n",
    "math.pi"
   ]
  },
  {
   "cell_type": "code",
   "execution_count": 22,
   "id": "24124b72",
   "metadata": {},
   "outputs": [
    {
     "data": {
      "text/plain": [
       "(600, 868)"
      ]
     },
     "execution_count": 22,
     "metadata": {},
     "output_type": "execute_result"
    }
   ],
   "source": [
    "edge.shape"
   ]
  },
  {
   "cell_type": "code",
   "execution_count": 23,
   "id": "be824bb4",
   "metadata": {},
   "outputs": [
    {
     "data": {
      "text/plain": [
       "(600, 868, 3)"
      ]
     },
     "execution_count": 23,
     "metadata": {},
     "output_type": "execute_result"
    }
   ],
   "source": [
    "dst = cv2.merge([edge, edge, edge])\n",
    "dst.shape"
   ]
  },
  {
   "cell_type": "code",
   "execution_count": 24,
   "id": "c0fe8783",
   "metadata": {},
   "outputs": [
    {
     "data": {
      "text/plain": [
       "(600, 868, 3)"
      ]
     },
     "execution_count": 24,
     "metadata": {},
     "output_type": "execute_result"
    }
   ],
   "source": [
    "dst = cv2.cvtColor(edge, cv2.COLOR_GRAY2BGR)\n",
    "dst.shape"
   ]
  },
  {
   "cell_type": "code",
   "execution_count": 47,
   "id": "b9bef769",
   "metadata": {},
   "outputs": [],
   "source": [
    "src = cv2.imread('./data/building.jpg', cv2.IMREAD_GRAYSCALE)\n",
    "\n",
    "edge = cv2.Canny(src, 100, 200)\n",
    "\n",
    "rho = 1 # 1 or 2 : 숫자가 작을 수록 더 정밀하게 검출하지만 연산시간이 더 걸림\n",
    "theta = math.pi/180 # 라디안 단위\n",
    "threshold = 160   # 축별배열의 숫자가 높다는것은 직선을 이루는 점들이 많다는 뜻, \n",
    "                   # 얼마나 큰 값을 직선으로 판단할지에 대한 threshold\n",
    "minLineLength = 50 # 검출한 선분의 최소길이\n",
    "maxLineGap = 5 # 직선으로 간주할 최대 에지 점 간격\n",
    "\n",
    "\n",
    "lines = cv2.HoughLinesP(edge, rho, theta, threshold, minLineLength, maxLineGap)\n",
    "#dst = cv2.merge([edge, edge, edge]) # 라인을 그릴 도화지는 3 channel로 준비\n",
    "dst = cv2.cvtColor(edge, cv2.COLOR_GRAY2BGR) # 라인을 그릴 도화지는 3 channel로 준비\n",
    "\n",
    "if lines is not None: \n",
    "    for i in range(lines.shape[0]) : # lines.shape[0] : 직선의 개수\n",
    "        # print(lines[i])\n",
    "        # print(lines[i][0])\n",
    "        pt1 = lines[i][0][0], lines[i][0][1] # 라인의 한쪽끝 x, y 좌표\n",
    "        pt2 = lines[i][0][2], lines[i][0][3] # 라인의 다른 한쪽끝 x, y 좌표\n",
    "        cv2.line(dst, pt1, pt2, (0, 0, 255), 2, cv2.LINE_AA)\n",
    "        \n",
    "\n",
    "cv2.imshow('src', src)\n",
    "cv2.imshow('edge', edge)\n",
    "cv2.imshow('dst', dst)\n",
    "cv2.waitKey()\n",
    "cv2.destroyAllWindows()"
   ]
  },
  {
   "cell_type": "code",
   "execution_count": 19,
   "id": "a65c7f9a",
   "metadata": {},
   "outputs": [
    {
     "data": {
      "text/plain": [
       "(292, 1, 4)"
      ]
     },
     "execution_count": 19,
     "metadata": {},
     "output_type": "execute_result"
    }
   ],
   "source": [
    "lines.shape"
   ]
  },
  {
   "cell_type": "markdown",
   "id": "c324e880",
   "metadata": {},
   "source": [
    "## 허프 변환 원 검출"
   ]
  },
  {
   "cell_type": "code",
   "execution_count": 54,
   "id": "8295b523",
   "metadata": {},
   "outputs": [],
   "source": [
    "import numpy as np"
   ]
  },
  {
   "cell_type": "code",
   "execution_count": 66,
   "id": "5e8c7ae7",
   "metadata": {},
   "outputs": [],
   "source": [
    "src = cv2.imread('./data/coins.png', cv2.IMREAD_GRAYSCALE)\n",
    "\n",
    "blurred = cv2.blur(src, (3, 3))\n",
    "\n",
    "circles = cv2.HoughCircles(blurred, cv2.HOUGH_GRADIENT, dp=1, minDist=50,\n",
    "                param1=150, param2=30)\n",
    "\n",
    "dst = cv2.cvtColor(src, cv2.COLOR_GRAY2BGR) # 그림 그릴 도화지(dst)를 3 channel로 준비\n",
    "\n",
    "if circles is not None:\n",
    "    for i in range(circles.shape[1]):\n",
    "        cx, cy, radius = circles[0][i]\n",
    "        cv2.circle(dst, (np.uint8(cx), np.uint8(cy)), np.uint8(radius), (0, 0, 255), 2)\n",
    "\n",
    "\n",
    "\n",
    "cv2.imshow('src', src)\n",
    "cv2.imshow('blurred', blurred)\n",
    "cv2.imshow('dst', dst)\n",
    "cv2.waitKey()\n",
    "cv2.destroyAllWindows()"
   ]
  }
 ],
 "metadata": {
  "kernelspec": {
   "display_name": "Python 3 (ipykernel)",
   "language": "python",
   "name": "python3"
  },
  "language_info": {
   "codemirror_mode": {
    "name": "ipython",
    "version": 3
   },
   "file_extension": ".py",
   "mimetype": "text/x-python",
   "name": "python",
   "nbconvert_exporter": "python",
   "pygments_lexer": "ipython3",
   "version": "3.9.7"
  }
 },
 "nbformat": 4,
 "nbformat_minor": 5
}
