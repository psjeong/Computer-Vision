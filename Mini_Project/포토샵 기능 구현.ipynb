{
 "cells": [
  {
   "cell_type": "code",
   "execution_count": 22,
   "id": "9b66e19f",
   "metadata": {},
   "outputs": [
    {
     "data": {
      "text/html": [
       "<style>\n",
       "table {float:left}\n",
       "</style>\n"
      ],
      "text/plain": [
       "<IPython.core.display.HTML object>"
      ]
     },
     "metadata": {},
     "output_type": "display_data"
    }
   ],
   "source": [
    "%%html\n",
    "<style>\n",
    "table {float:left}\n",
    "</style>"
   ]
  },
  {
   "cell_type": "markdown",
   "id": "fcf8b998",
   "metadata": {},
   "source": [
    "***"
   ]
  },
  {
   "cell_type": "code",
   "execution_count": 1,
   "id": "61442495",
   "metadata": {},
   "outputs": [],
   "source": [
    "import cv2\n",
    "import sys"
   ]
  },
  {
   "cell_type": "markdown",
   "id": "7ffdd21e",
   "metadata": {},
   "source": [
    "| key | 기능|\n",
    "|:--|:--|\n",
    "|L |리퀴파이|\n",
    "|M |모자이크|\n",
    "|D |그리기|\n",
    "|I |색상 반전|\n",
    "|C |자르기|\n",
    "|s |저장|\n",
    "|ctrl + 마우스 휠 |확대|\n",
    "|트랙바|밝기 조정 |"
   ]
  },
  {
   "cell_type": "code",
   "execution_count": 48,
   "id": "1850f88a",
   "metadata": {},
   "outputs": [],
   "source": [
    "import cv2\n",
    "\n",
    "def on_mouse(event, x, y, flags, param):\n",
    "    global old_x, old_y\n",
    "    \n",
    "    if event == cv2.EVENT_LBUTTONDOWN:\n",
    "        old_x, old_y = x, y\n",
    "    elif event == cv2.EVENT_LBUTTONUP:\n",
    "        pass\n",
    "    elif flags ==  cv2.EVENT_FLAG_LBUTTON:\n",
    "        cv2.line(img, (old_x,old_y),(x,y),(255, 0, 0), 2)\n",
    "        cv2.imshow('img', img)\n",
    "        old_x, old_y = x, y    \n",
    "\n",
    "img = cv2.imread('img/people.jpg')\n",
    "\n",
    "cv2.imshow('img', img)\n",
    "\n",
    "while True:\n",
    "    keycode = cv2.waitKey()\n",
    "    \n",
    "    # ▶ 그림 그리기 ◀\n",
    "    if keycode == ord('d') or  keycode == ord('D'):\n",
    "        cv2.setMouseCallback('img',on_mouse)\n",
    "        cv2.imshow('img', img)\n",
    "        \n",
    "    # ▶ 색상 반전 ◀\n",
    "    if keycode == ord('i') or keycode == ord('I'):\n",
    "        img = 255 - img\n",
    "        cv2.imshow('img', img)\n",
    "        \n",
    "    # ▶ 이미지 자른 후 새창으로 보여주기 ◀\n",
    "    if keycode == ord('c') or keycode == ord('C'):\n",
    "        x,y,w,h = cv2.selectROI('img', img,showCrosshair=False)\n",
    "        crop = img[y:y+h, x:x+w]\n",
    "        cv2.imshow('img', img)\n",
    "        cv2.imshow('crop', crop)\n",
    "        if keycode == ord('s') or keycode == ord('S'):\n",
    "            cv2.imwrite('img/new.jpg', img)\n",
    "        \n",
    "    # ▶ 이미지 저장 ◀\n",
    "    if keycode == ord('s') or keycode == ord('S'):\n",
    "        cv2.imwrite('img/new.jpg', img)\n",
    "        \n",
    "        \n",
    "    # 종료\n",
    "    elif keycode == ord('q') or keycode == ord('Q'):\n",
    "        break\n",
    "        \n",
    "cv2.destroyAllWindows()"
   ]
  }
 ],
 "metadata": {
  "kernelspec": {
   "display_name": "Python 3",
   "language": "python",
   "name": "python3"
  },
  "language_info": {
   "codemirror_mode": {
    "name": "ipython",
    "version": 3
   },
   "file_extension": ".py",
   "mimetype": "text/x-python",
   "name": "python",
   "nbconvert_exporter": "python",
   "pygments_lexer": "ipython3",
   "version": "3.9.15"
  }
 },
 "nbformat": 4,
 "nbformat_minor": 5
}
