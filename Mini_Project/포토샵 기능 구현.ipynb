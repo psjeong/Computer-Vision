{
 "cells": [
  {
   "cell_type": "code",
   "execution_count": 3,
   "id": "61442495",
   "metadata": {},
   "outputs": [],
   "source": [
    "import cv2\n",
    "import sys"
   ]
  },
  {
   "cell_type": "markdown",
   "id": "c06529e3",
   "metadata": {},
   "source": [
    "- 마우스로 그림 그리기"
   ]
  },
  {
   "cell_type": "code",
   "execution_count": 5,
   "id": "aaf4b063",
   "metadata": {},
   "outputs": [],
   "source": [
    "def on_mouse(event, x, y, flags, param):\n",
    "    global old_x, old_y\n",
    "    \n",
    "    if event == cv2.EVENT_LBUTTONDOWN:\n",
    "        old_x, old_y = x, y\n",
    "    elif event == cv2.EVENT_LBUTTONUP:\n",
    "        pass\n",
    "    elif event == cv2. EVENT_MOUSEMOVE:\n",
    "        if flags & cv2.EVENT_FLAG_LBUTTON:\n",
    "            cv2.line(img, (old_x, old_y), (x, y), (0, 255, 255), 2)\n",
    "            cv2.imshow('img', img)\n",
    "            old_x, old_y = x, y\n",
    "\n",
    "\n",
    "\n",
    "img = cv2.imread('img/people.jpg')\n",
    "\n",
    "if img is None:\n",
    "    print(\"Image load failed!\")\n",
    "    sys.exit()\n",
    "\n",
    "cv2.imshow(\"img\", img)\n",
    "cv2.setMouseCallback(\"img\", on_mouse) # 마우스 이벤트가 발생했을 때 처리 될 함수를 지정\n",
    "\n",
    "cv2.waitKey()\n",
    "cv2.destroyAllWindows()"
   ]
  },
  {
   "cell_type": "code",
   "execution_count": null,
   "id": "e2a0abbe",
   "metadata": {},
   "outputs": [],
   "source": []
  }
 ],
 "metadata": {
  "kernelspec": {
   "display_name": "Python 3",
   "language": "python",
   "name": "python3"
  },
  "language_info": {
   "codemirror_mode": {
    "name": "ipython",
    "version": 3
   },
   "file_extension": ".py",
   "mimetype": "text/x-python",
   "name": "python",
   "nbconvert_exporter": "python",
   "pygments_lexer": "ipython3",
   "version": "3.9.15"
  }
 },
 "nbformat": 4,
 "nbformat_minor": 5
}
