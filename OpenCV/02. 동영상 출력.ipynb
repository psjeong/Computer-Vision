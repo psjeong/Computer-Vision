{
 "cells": [
  {
   "cell_type": "markdown",
   "metadata": {},
   "source": [
    "# 02. 동영상 출력\n",
    "동영상은 여러 frame이 연속적으로 보여지면서 움직임 효과를 냄."
   ]
  },
  {
   "cell_type": "markdown",
   "metadata": {},
   "source": [
    "## 동영상 파일 출력"
   ]
  },
  {
   "cell_type": "code",
   "execution_count": 5,
   "metadata": {},
   "outputs": [
    {
     "name": "stdout",
     "output_type": "stream",
     "text": [
      "사용자 입력에 의해 종료합니다.\n"
     ]
    }
   ],
   "source": [
    "import cv2\n",
    "cap = cv2.VideoCapture('./data/video.mp4')\n",
    "\n",
    "while cap.isOpened():  # 동영상 파일이 올바로 열렸는지?\n",
    "  ret, frame = cap.read()  # ret : 성공 여부, frame : 받아온 이미지(프레임)\n",
    "  if not ret:\n",
    "    print('더 이상 가져올 프레임이 없어요')\n",
    "    break\n",
    "  cv2.imshow('video', frame)\n",
    "\n",
    "  if cv2.waitKey(25) == ord('q'):\n",
    "    print('사용자 입력에 의해 종료합니다.')\n",
    "    break\n",
    "\n",
    "cap.release() # 자원해제\n",
    "cv2.destroyAllWindows()"
   ]
  },
  {
   "cell_type": "markdown",
   "metadata": {},
   "source": [
    "## 카메라 출력"
   ]
  },
  {
   "cell_type": "code",
   "execution_count": 6,
   "metadata": {},
   "outputs": [],
   "source": [
    "cap = cv2.VideoCapture(0) # 0번째 카메라 장치 (Device ID)\n",
    "\n",
    "if not cap.isOpened():  # 카메라가 잘 열리지 않은 경우\n",
    "  exit() # 프로그램 종료\n",
    "\n",
    "while True:\n",
    "  ret, frame = cap.read()\n",
    "  if not ret:\n",
    "    break\n",
    "\n",
    "  cv2.imshow('camera', frame)\n",
    "  if cv2.waitKey(1) == ord('q'):  # 사용자가 q를 입력하면\n",
    "    break\n",
    "\n",
    "cap.release() # 자원해제\n",
    "cv2.destroyAllWindows()"
   ]
  }
 ],
 "metadata": {
  "kernelspec": {
   "display_name": "Python 3.10.1 64-bit",
   "language": "python",
   "name": "python3"
  },
  "language_info": {
   "codemirror_mode": {
    "name": "ipython",
    "version": 3
   },
   "file_extension": ".py",
   "mimetype": "text/x-python",
   "name": "python",
   "nbconvert_exporter": "python",
   "pygments_lexer": "ipython3",
   "version": "3.10.1"
  },
  "orig_nbformat": 4,
  "vscode": {
   "interpreter": {
    "hash": "26de051ba29f2982a8de78e945f0abaf191376122a1563185a90213a26c5da77"
   }
  }
 },
 "nbformat": 4,
 "nbformat_minor": 2
}
