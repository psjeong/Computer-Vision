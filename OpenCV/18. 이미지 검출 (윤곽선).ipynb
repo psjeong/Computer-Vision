{
 "cells": [
  {
   "cell_type": "markdown",
   "metadata": {},
   "source": [
    "# 18. 이미지 검출 (윤곽선)"
   ]
  },
  {
   "cell_type": "code",
   "execution_count": 1,
   "metadata": {},
   "outputs": [],
   "source": [
    "import cv2"
   ]
  },
  {
   "cell_type": "markdown",
   "metadata": {},
   "source": [
    "윤곽선 (Contour) : 경계선을 연결한 선"
   ]
  },
  {
   "cell_type": "code",
   "execution_count": 5,
   "metadata": {},
   "outputs": [],
   "source": [
    "img = cv2.imread('./data/card.png')\n",
    "target_img = img.copy() # 사본 이미지\n",
    "\n",
    "gray = cv2.cvtColor(img, cv2.COLOR_BGR2GRAY)\n",
    "ret, otsu = cv2.threshold(gray, -1, 255, cv2.THRESH_BINARY | cv2.THRESH_OTSU)\n",
    "\n",
    "contours, hierarchy = cv2.findContours(otsu, cv2.RETR_LIST, cv2.CHAIN_APPROX_NONE)\n",
    "# 윤곽선 정보, 구조 = cv2.findContours(대상 이미지, 윤곽선 찾는 모드(mode), 윤곽선 찾을때 사용하는 근사치 방법(method))\n",
    "# 윤곽선 찾을때 사용하는 근사치 방법(method) : CHAIN_APPROX_NONE, CHAIN_APPROX_SIMPLE(메모리 줄일 수 있음)\n",
    "\n",
    "COLOR = (0, 200, 2) # 녹색\n",
    "cv2.drawContours(target_img, contours, -1, COLOR, 2) # 윤곽선 그리기\n",
    "# cv2.drawContours(대상 이미지, 윤곽선 정보, 인덱스(-1 이면 전체), 색깔, 두께)\n",
    "\n",
    "cv2.imshow('img', img)\n",
    "cv2.imshow('gray', gray)\n",
    "cv2.imshow('otsu', otsu)\n",
    "cv2.imshow('contours', target_img)\n",
    "\n",
    "cv2.waitKey()\n",
    "cv2.destroyAllWindows()"
   ]
  },
  {
   "cell_type": "markdown",
   "metadata": {},
   "source": [
    "### 윤곽선 찾기 모드\n",
    "1. cv2.RETR_EXTERNAL  : 가장 외곽의 윤곽선만 찾음\n",
    "1. cv2.RETR_LIST : 모든 윤곽선 찾음( 계층 정보 없음 )\n",
    "1. cv2.RETR_TREE : 모든 윤곽선 찾음 ( 계층 저보를 트리 구조로 생성 )"
   ]
  },
  {
   "cell_type": "code",
   "execution_count": 6,
   "metadata": {},
   "outputs": [],
   "source": [
    "img = cv2.imread('./data/card.png')\n",
    "target_img = img.copy() # 사본 이미지\n",
    "\n",
    "gray = cv2.cvtColor(img, cv2.COLOR_BGR2GRAY)\n",
    "ret, otsu = cv2.threshold(gray, -1, 255, cv2.THRESH_BINARY | cv2.THRESH_OTSU)\n",
    "\n",
    "# contours, hierarchy = cv2.findContours(otsu, cv2.RETR_LIST, cv2.CHAIN_APPROX_NONE)\n",
    "contours, hierarchy = cv2.findContours(otsu, cv2.RETR_EXTERNAL, cv2.CHAIN_APPROX_NONE)\n",
    "# contours, hierarchy = cv2.findContours(otsu, cv2.RETR_TREE, cv2.CHAIN_APPROX_NONE)\n",
    "\n",
    "# print(hierarchy)\n",
    "# print(f'총 발견 갯수 : {len(contours)}')\n",
    "\n",
    "COLOR = (0, 200, 2) # 녹색\n",
    "cv2.drawContours(target_img, contours, -1, COLOR, 2) \n",
    "\n",
    "cv2.imshow('img', img)\n",
    "cv2.imshow('gray', gray)\n",
    "cv2.imshow('otsu', otsu)\n",
    "cv2.imshow('contours', target_img)\n",
    "\n",
    "cv2.waitKey()\n",
    "cv2.destroyAllWindows()"
   ]
  },
  {
   "cell_type": "markdown",
   "metadata": {},
   "source": [
    "## 경계 사각형\n",
    "윤곽선의 경계면을 둘러싸는 사각형\n",
    "> boundingRect()"
   ]
  },
  {
   "cell_type": "code",
   "execution_count": 7,
   "metadata": {},
   "outputs": [],
   "source": [
    "img = cv2.imread('./data/card.png')\n",
    "target_img = img.copy() # 사본 이미지\n",
    "\n",
    "gray = cv2.cvtColor(img, cv2.COLOR_BGR2GRAY)\n",
    "ret, otsu = cv2.threshold(gray, -1, 255, cv2.THRESH_BINARY | cv2.THRESH_OTSU)\n",
    "contours, hierarchy = cv2.findContours(otsu, cv2.RETR_LIST, cv2.CHAIN_APPROX_NONE)\n",
    "\n",
    "COLOR = (0, 200, 2) # 녹색\n",
    "\n",
    "for cnt in contours:\n",
    "  x, y, width, height = cv2.boundingRect(cnt)\n",
    "  cv2.rectangle(target_img, (x, y), (x+width, y+height), COLOR, 2) # 사각형\n",
    "\n",
    "cv2.imshow('img', img)\n",
    "cv2.imshow('gray', gray)\n",
    "cv2.imshow('otsu', otsu)\n",
    "cv2.imshow('contours', target_img)\n",
    "\n",
    "cv2.waitKey()\n",
    "cv2.destroyAllWindows()"
   ]
  },
  {
   "cell_type": "markdown",
   "metadata": {},
   "source": [
    "## 면적\n",
    "> contourArea()"
   ]
  },
  {
   "cell_type": "code",
   "execution_count": 8,
   "metadata": {},
   "outputs": [],
   "source": [
    "img = cv2.imread('./data/card.png')\n",
    "target_img = img.copy() # 사본 이미지\n",
    "\n",
    "gray = cv2.cvtColor(img, cv2.COLOR_BGR2GRAY)\n",
    "ret, otsu = cv2.threshold(gray, -1, 255, cv2.THRESH_BINARY | cv2.THRESH_OTSU)\n",
    "contours, hierarchy = cv2.findContours(otsu, cv2.RETR_LIST, cv2.CHAIN_APPROX_NONE)\n",
    "\n",
    "COLOR = (0, 200, 2) # 녹색\n",
    "\n",
    "for cnt in contours:\n",
    "  if cv2.contourArea(cnt) > 25000:\n",
    "    x, y, width, height = cv2.boundingRect(cnt)\n",
    "    cv2.rectangle(target_img, (x, y), (x+width, y+height), COLOR, 2) # 사각형\n",
    "\n",
    "cv2.imshow('img', img)\n",
    "cv2.imshow('contours', target_img)\n",
    "\n",
    "cv2.waitKey()\n",
    "cv2.destroyAllWindows()"
   ]
  },
  {
   "cell_type": "markdown",
   "metadata": {},
   "source": [
    "## 미니 프로젝트 : 개별 카드 추출해서 파일 저장"
   ]
  },
  {
   "cell_type": "code",
   "execution_count": 13,
   "metadata": {},
   "outputs": [],
   "source": [
    "img = cv2.imread('./data/card.png')\n",
    "target_img = img.copy() # 사본 이미지\n",
    "\n",
    "gray = cv2.cvtColor(img, cv2.COLOR_BGR2GRAY)\n",
    "ret, otsu = cv2.threshold(gray, -1, 255, cv2.THRESH_BINARY | cv2.THRESH_OTSU)\n",
    "contours, hierarchy = cv2.findContours(otsu, cv2.RETR_LIST, cv2.CHAIN_APPROX_NONE)\n",
    "\n",
    "COLOR = (0, 200, 2) # 녹색\n",
    "\n",
    "idx = 1\n",
    "for cnt in contours:\n",
    "  if cv2.contourArea(cnt) > 25000:\n",
    "    x, y, width, height = cv2.boundingRect(cnt)\n",
    "    cv2.rectangle(target_img, (x, y), (x+width, y+height), COLOR, 2) # 사각형 그림\n",
    "\n",
    "    crop = img[y:y+height, x:x+width]\n",
    "    cv2.imshow(f'card_crop_{idx}', crop)\n",
    "    cv2.imwrite(f'card_crop_{idx}.png', crop) # 파일 저장\n",
    "    idx += 1\n",
    "\n",
    "\n",
    "cv2.imshow('img', img)\n",
    "cv2.imshow('contours', target_img)\n",
    "\n",
    "cv2.waitKey()\n",
    "cv2.destroyAllWindows()"
   ]
  }
 ],
 "metadata": {
  "kernelspec": {
   "display_name": "Python 3.10.1 64-bit",
   "language": "python",
   "name": "python3"
  },
  "language_info": {
   "codemirror_mode": {
    "name": "ipython",
    "version": 3
   },
   "file_extension": ".py",
   "mimetype": "text/x-python",
   "name": "python",
   "nbconvert_exporter": "python",
   "pygments_lexer": "ipython3",
   "version": "3.10.1"
  },
  "orig_nbformat": 4,
  "vscode": {
   "interpreter": {
    "hash": "26de051ba29f2982a8de78e945f0abaf191376122a1563185a90213a26c5da77"
   }
  }
 },
 "nbformat": 4,
 "nbformat_minor": 2
}
