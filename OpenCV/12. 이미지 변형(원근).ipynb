{
 "cells": [
  {
   "cell_type": "markdown",
   "metadata": {},
   "source": [
    "# 12. 이미지 변형 (원근)"
   ]
  },
  {
   "cell_type": "code",
   "execution_count": 3,
   "metadata": {},
   "outputs": [],
   "source": [
    "import cv2\n",
    "import numpy as np"
   ]
  },
  {
   "cell_type": "markdown",
   "metadata": {},
   "source": [
    "##  사다리꼴 이미지 펼치기"
   ]
  },
  {
   "cell_type": "code",
   "execution_count": 5,
   "metadata": {},
   "outputs": [],
   "source": [
    "img = cv2.imread('./data/newspaper.jpg')\n",
    "\n",
    "width, height = 640, 240 # 가로 크기 640, 세로 크기 240으로 결과물 출력\n",
    "\n",
    "src = np.array([[511, 352], [1008, 345], [1122, 584], [455, 594]], dtype=np.float32)  # input 4개 지점\n",
    "dst = np.array([[0, 0], [width, 0], [width, height], [0, height]], dtype=np.float32)  # output 4개 지점\n",
    "# 좌상, 우상, 우하, 좌하 (시게 방향으로 4 지점 정의)\n",
    "\n",
    "matrix = cv2.getPerspectiveTransform(src, dst) # Matrix 얻어옴\n",
    "result = cv2.warpPerspective(img, matrix, (width, height)) # matrix 대로 변환을 함\n",
    "\n",
    "cv2.imshow('img', img)\n",
    "cv2.imshow('result', result)\n",
    "cv2.waitKey()\n",
    "cv2.destroyAllWindows()"
   ]
  },
  {
   "cell_type": "markdown",
   "metadata": {},
   "source": [
    "## 회전된 이미지 올바로 세우기"
   ]
  },
  {
   "cell_type": "code",
   "execution_count": 6,
   "metadata": {},
   "outputs": [],
   "source": [
    "img = cv2.imread('./data/poker.jpg')\n",
    "\n",
    "width, height = 530, 710\n",
    "\n",
    "src = np.array([[702, 143], [1133, 414], [726, 1007], [276, 700]], dtype=np.float32)  # input 4개 지점\n",
    "dst = np.array([[0, 0], [width, 0], [width, height], [0, height]], dtype=np.float32)  # output 4개 지점\n",
    "# 좌상, 우상, 우하, 좌하 (시게 방향으로 4 지점 정의)\n",
    "\n",
    "matrix = cv2.getPerspectiveTransform(src, dst) # Matrix 얻어옴\n",
    "result = cv2.warpPerspective(img, matrix, (width, height)) # matrix 대로 변환을 함\n",
    "\n",
    "cv2.imshow('img', img)\n",
    "cv2.imshow('result', result)\n",
    "cv2.waitKey()\n",
    "cv2.destroyAllWindows()"
   ]
  },
  {
   "cell_type": "markdown",
   "metadata": {},
   "source": [
    "## 미니 프로젝트 : 반자동 문서 스캐너"
   ]
  },
  {
   "cell_type": "markdown",
   "metadata": {},
   "source": [
    "### 마우스 이벤트 등록"
   ]
  },
  {
   "cell_type": "code",
   "execution_count": 7,
   "metadata": {},
   "outputs": [
    {
     "name": "stdout",
     "output_type": "stream",
     "text": [
      "왼쪽 버튼 DOWN\n",
      "704 152\n",
      "왼쪽 버튼 UP\n",
      "1131 426\n",
      "왼쪽 버튼 DOWN\n",
      "283 699\n",
      "왼쪽 버튼 UP\n",
      "713 1003\n"
     ]
    }
   ],
   "source": [
    "from cv2 import EVENT_LBUTTONDBLCLK\n",
    "\n",
    "\n",
    "img = cv2.imread('./data/poker.jpg')\n",
    "\n",
    "def mouse_handler(event, x, y, flags, param):\n",
    "  if event == cv2.EVENT_LBUTTONDOWN: # 마우스 왼쪽 버튼 Down\n",
    "    print('왼쪽 버튼 Down')\n",
    "    print(x, y)\n",
    "  elif event == cv2.EVENT_LBUTTONUP: # 마우스 왼쪽 버튼 Up\n",
    "    print('왼쪽 버튼 Up')\n",
    "    print(x, y)\n",
    "  elif event == cv2.EVENT_LBUTTONDBLCLK: # 마우스 왼쪽 버튼 더블 클릭\n",
    "    print('왼쪽 버튼 Double Click')\n",
    "  # elif event == cv2.EVENT_MOUSEMOVE: # 마우스 이동\n",
    "  #   print('마우스 이동')\n",
    "  elif event == cv2.EVENT_RBUTTONDOWN: # 오른쪽 버튼 Down\n",
    "    print('오른쪽 버튼 Down')\n",
    "\n",
    "cv2.namedWindow('img') # img란 이름의 윈도우를 먼저 만들어두는것, 여기에 마우스 이벤트를 처리하기 위한 핸들러 적용\n",
    "cv2.setMouseCallback('img', mouse_handler)\n",
    "cv2.imshow('img', img)\n",
    "cv2.waitKey()\n",
    "cv2.destroyAllWindows()"
   ]
  },
  {
   "cell_type": "markdown",
   "metadata": {},
   "source": [
    "### 프로젝트"
   ]
  },
  {
   "cell_type": "code",
   "execution_count": 13,
   "metadata": {},
   "outputs": [],
   "source": [
    "src_img = cv2.imread('./data/poker.jpg')\n",
    "\n",
    "point_list = []\n",
    "COLOR = (255, 0, 255)  # 핑크\n",
    "\n",
    "def mouse_handler(event, x, y, flags, param):\n",
    "  if event == cv2.EVENT_LBUTTONDOWN: # 마우스 왼쪽 버튼 Down\n",
    "    point_list.append((x, y))\n",
    "\n",
    "  for point in point_list:\n",
    "    cv2.circle(src_img, point, 15, COLOR, cv2.FILLED)\n",
    "  \n",
    "  if len(point_list) == 4:\n",
    "    show_result() # 결과 출력 함수\n",
    "\n",
    "  cv2.imshow('img', src_img)\n",
    "\n",
    "def show_result():\n",
    "  width, height = 530, 710\n",
    "\n",
    "  src = np.float32(point_list)\n",
    "  dst = np.array([[0, 0], [width, 0], [width, height], [0, height]], dtype=np.float32)  # output 4개 지점\n",
    "  # 좌상, 우상, 우하, 좌하 (시게 방향으로 4 지점 정의)\n",
    "\n",
    "  matrix = cv2.getPerspectiveTransform(src, dst) # Matrix 얻어옴\n",
    "  result = cv2.warpPerspective(img, matrix, (width, height)) # matrix 대로 변환을 함\n",
    "  cv2.imshow('result')\n",
    "\n",
    "cv2.namedWindow('img')\n",
    "cv2.setMouseCallback('img', mouse_handler)\n",
    "\n",
    "cv2.imshow('img', src_img)\n",
    "cv2.waitKey()\n",
    "cv2.destroyAllWindows()"
   ]
  },
  {
   "cell_type": "code",
   "execution_count": null,
   "metadata": {},
   "outputs": [],
   "source": []
  },
  {
   "cell_type": "code",
   "execution_count": null,
   "metadata": {},
   "outputs": [],
   "source": []
  },
  {
   "cell_type": "code",
   "execution_count": null,
   "metadata": {},
   "outputs": [],
   "source": []
  }
 ],
 "metadata": {
  "kernelspec": {
   "display_name": "Python 3.10.1 64-bit",
   "language": "python",
   "name": "python3"
  },
  "language_info": {
   "codemirror_mode": {
    "name": "ipython",
    "version": 3
   },
   "file_extension": ".py",
   "mimetype": "text/x-python",
   "name": "python",
   "nbconvert_exporter": "python",
   "pygments_lexer": "ipython3",
   "version": "3.10.1"
  },
  "orig_nbformat": 4,
  "vscode": {
   "interpreter": {
    "hash": "26de051ba29f2982a8de78e945f0abaf191376122a1563185a90213a26c5da77"
   }
  }
 },
 "nbformat": 4,
 "nbformat_minor": 2
}
